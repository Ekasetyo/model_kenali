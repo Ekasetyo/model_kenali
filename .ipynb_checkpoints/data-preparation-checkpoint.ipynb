{
 "cells": [
  {
   "cell_type": "markdown",
   "id": "1d5f09a5-b073-4a9d-9f01-3f144bcca70c",
   "metadata": {},
   "source": [
    "# Import Library"
   ]
  },
  {
   "cell_type": "code",
   "execution_count": 53,
   "id": "6f0f75cd-7e25-4014-ae1a-ab1188e91a95",
   "metadata": {},
   "outputs": [],
   "source": [
    "import pandas as pd\n",
    "import numpy as np\n",
    "import matplotlib.pyplot as plt\n",
    "import seaborn as sns"
   ]
  },
  {
   "cell_type": "markdown",
   "id": "d0ecdf37-763c-4124-8394-4eb44087e3a6",
   "metadata": {},
   "source": [
    "# Load Data"
   ]
  },
  {
   "cell_type": "code",
   "execution_count": 54,
   "id": "f141a17c-2ee7-42a0-b8de-d01366c6421e",
   "metadata": {},
   "outputs": [
    {
     "name": "stdout",
     "output_type": "stream",
     "text": [
      "Ukuran dataset: (40910, 11)\n",
      "\n",
      "5 baris pertama:\n",
      "   sex   age  hypertension  heart_disease  ever_married  work_type  \\\n",
      "0  1.0  63.0             0              1             1          4   \n",
      "1  1.0  42.0             0              1             1          4   \n",
      "2  0.0  61.0             0              0             1          4   \n",
      "3  1.0  41.0             1              0             1          3   \n",
      "4  1.0  85.0             0              0             1          4   \n",
      "\n",
      "   Residence_type  avg_glucose_level   bmi  smoking_status  stroke  \n",
      "0               1             228.69  36.6               1       1  \n",
      "1               0             105.92  32.5               0       1  \n",
      "2               1             171.23  34.4               1       1  \n",
      "3               0             174.12  24.0               0       1  \n",
      "4               1             186.21  29.0               1       1  \n",
      "\n",
      "Info dataset:\n",
      "<class 'pandas.core.frame.DataFrame'>\n",
      "RangeIndex: 40910 entries, 0 to 40909\n",
      "Data columns (total 11 columns):\n",
      " #   Column             Non-Null Count  Dtype  \n",
      "---  ------             --------------  -----  \n",
      " 0   sex                40907 non-null  float64\n",
      " 1   age                40910 non-null  float64\n",
      " 2   hypertension       40910 non-null  int64  \n",
      " 3   heart_disease      40910 non-null  int64  \n",
      " 4   ever_married       40910 non-null  int64  \n",
      " 5   work_type          40910 non-null  int64  \n",
      " 6   Residence_type     40910 non-null  int64  \n",
      " 7   avg_glucose_level  40910 non-null  float64\n",
      " 8   bmi                40910 non-null  float64\n",
      " 9   smoking_status     40910 non-null  int64  \n",
      " 10  stroke             40910 non-null  int64  \n",
      "dtypes: float64(4), int64(7)\n",
      "memory usage: 3.4 MB\n"
     ]
    }
   ],
   "source": [
    "# Load data\n",
    "df = pd.read_csv('stroke_data.csv')\n",
    "\n",
    "# Cek struktur\n",
    "print(\"Ukuran dataset:\", df.shape)\n",
    "print(\"\\n5 baris pertama:\")\n",
    "print(df.head())\n",
    "\n",
    "# Cek info dataset\n",
    "print(\"\\nInfo dataset:\")\n",
    "df.info()"
   ]
  },
  {
   "cell_type": "markdown",
   "id": "f5ae2d83-66bf-487c-974e-11e645b0ad60",
   "metadata": {},
   "source": [
    "# Data Cleaning"
   ]
  },
  {
   "cell_type": "code",
   "execution_count": 55,
   "id": "ee7d69d4-4059-4427-89d8-3cf1f9062fd5",
   "metadata": {},
   "outputs": [
    {
     "name": "stdout",
     "output_type": "stream",
     "text": [
      "\n",
      "Missing values per column:\n",
      "sex                  3\n",
      "age                  0\n",
      "hypertension         0\n",
      "heart_disease        0\n",
      "ever_married         0\n",
      "work_type            0\n",
      "Residence_type       0\n",
      "avg_glucose_level    0\n",
      "bmi                  0\n",
      "smoking_status       0\n",
      "stroke               0\n",
      "dtype: int64\n"
     ]
    }
   ],
   "source": [
    "# 4. Cek missing value\n",
    "print(\"\\nMissing values per column:\")\n",
    "print(df.isnull().sum())\n",
    "\n",
    "# 5. Tangani missing value (hanya kolom 'sex' yang memiliki NaN)\n",
    "df = df.dropna()"
   ]
  },
  {
   "cell_type": "code",
   "execution_count": 56,
   "id": "2ef1a164-0c51-4cf5-809a-2dc539aa724c",
   "metadata": {},
   "outputs": [
    {
     "name": "stdout",
     "output_type": "stream",
     "text": [
      "\n",
      "Distribusi Kelas Stroke:\n",
      "stroke\n",
      "1    20460\n",
      "0    20447\n",
      "Name: count, dtype: int64\n"
     ]
    }
   ],
   "source": [
    "# Tampilkan distribusi kelas target (stroke)\n",
    "stroke_counts = df['stroke'].value_counts()\n",
    "print(\"\\nDistribusi Kelas Stroke:\")\n",
    "print(stroke_counts)"
   ]
  },
  {
   "cell_type": "markdown",
   "id": "13798817-9dcf-4030-b162-7774774e1f0d",
   "metadata": {},
   "source": [
    "# Visualisasi"
   ]
  },
  {
   "cell_type": "code",
   "execution_count": 57,
   "id": "aa08f91d-33e8-4029-b70d-b37ac802875b",
   "metadata": {},
   "outputs": [
    {
     "data": {
      "image/png": "[encoded data removed]",
      "text/plain": [
       "<Figure size 600x400 with 1 Axes>"
      ]
     },
     "metadata": {},
     "output_type": "display_data"
    }
   ],
   "source": [
    "total = stroke_counts.sum()\n",
    "plt.figure(figsize=(6,4))\n",
    "sns.barplot(x=stroke_counts.index, y=stroke_counts.values)\n",
    "plt.xticks([0,1], ['No Stroke', 'Stroke'])\n",
    "plt.ylabel(\"Jumlah\")\n",
    "plt.title(\"Distribusi Kelas Stroke (Total: {} data)\".format(total))\n",
    "plt.show()"
   ]
  },
  {
   "cell_type": "markdown",
   "id": "415cbb80-8b79-44a1-ae08-44173297bd5e",
   "metadata": {},
   "source": [
    "# Encoding"
   ]
  },
  {
   "cell_type": "markdown",
   "id": "f5d3a767-4a0c-4854-bffa-47dc115ae192",
   "metadata": {},
   "source": [
    "# Simpan Data"
   ]
  },
  {
   "cell_type": "code",
   "execution_count": 58,
   "id": "b34d8ac4-d9ba-4b03-a3f0-23f2fe35f15a",
   "metadata": {},
   "outputs": [
    {
     "name": "stdout",
     "output_type": "stream",
     "text": [
      "\n",
      "Data telah disiapkan dan disimpan sebagai 'stroke-final.csv'\n"
     ]
    }
   ],
   "source": [
    "# 11. Simpan data yang sudah siap ke dalam file CSV\n",
    "final_df = pd.DataFrame(X_scaled, columns=X.columns)\n",
    "final_df['stroke'] = y.values\n",
    "final_df.to_csv(\"stroke-final.csv\", index=False)\n",
    "\n",
    "print(\"\\nData telah disiapkan dan disimpan sebagai 'stroke-final.csv'\")"
   ]
  },
  {
   "cell_type": "code",
   "execution_count": 59,
   "id": "3aa0b650-acd4-4c8c-b2dd-5bda24e83fdc",
   "metadata": {},
   "outputs": [
    {
     "name": "stdout",
     "output_type": "stream",
     "text": [
      "Kolom yang tersedia di df_clean:\n",
      "['Age', 'Gender', 'Hypertension', 'Heart Disease', 'Average Glucose Level', 'Body Mass Index (BMI)', 'Smoking Status', 'Physical Activity', 'Stroke History', 'Family History of Stroke', 'Diagnosis', 'Systolic BP', 'Diastolic BP', 'HDL', 'LDL', 'Total_Symptoms']\n"
     ]
    }
   ],
   "source": [
    "print(\"Kolom yang tersedia di df_clean:\")\n",
    "print(df_clean.columns.tolist())"
   ]
  },
  {
   "cell_type": "code",
   "execution_count": null,
   "id": "13187fe4-696a-48e9-ad44-d6dc1e4c3d3b",
   "metadata": {},
   "outputs": [],
   "source": []
  }
 ],
 "metadata": {
  "kernelspec": {
   "display_name": "Python 3 (ipykernel)",
   "language": "python",
   "name": "python3"
  },
  "language_info": {
   "codemirror_mode": {
    "name": "ipython",
    "version": 3
   },
   "file_extension": ".py",
   "mimetype": "text/x-python",
   "name": "python",
   "nbconvert_exporter": "python",
   "pygments_lexer": "ipython3",
   "version": "3.12.6"
  }
 },
 "nbformat": 4,
 "nbformat_minor": 5
}
